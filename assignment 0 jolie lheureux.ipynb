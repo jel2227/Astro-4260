{
 "cells": [
  {
   "cell_type": "code",
   "execution_count": 2,
   "id": "27576139-a3d7-4a71-bfa8-45dd07c10a0a",
   "metadata": {},
   "outputs": [
    {
     "name": "stdout",
     "output_type": "stream",
     "text": [
      "hello world\n"
     ]
    }
   ],
   "source": [
    "print('hello world')"
   ]
  },
  {
   "cell_type": "code",
   "execution_count": null,
   "id": "9a10f97d-0d43-4d64-931d-5cbd50c1ffe0",
   "metadata": {},
   "outputs": [],
   "source": [
    "#Jolie L'Heuruex\n",
    "#uni: jel2227\n",
    "#Caiti Levin helped me with this assignemnt !!!"
   ]
  }
 ],
 "metadata": {
  "kernelspec": {
   "display_name": "Python 3",
   "language": "python",
   "name": "python3"
  },
  "language_info": {
   "codemirror_mode": {
    "name": "ipython",
    "version": 3
   },
   "file_extension": ".py",
   "mimetype": "text/x-python",
   "name": "python",
   "nbconvert_exporter": "python",
   "pygments_lexer": "ipython3",
   "version": "3.8.8"
  }
 },
 "nbformat": 4,
 "nbformat_minor": 5
}

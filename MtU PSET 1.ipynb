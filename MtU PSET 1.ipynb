{
 "cells": [
  {
   "cell_type": "code",
   "execution_count": 10,
   "id": "392173e0-1ffc-475d-a43c-16a8ee73dca5",
   "metadata": {},
   "outputs": [],
   "source": [
    "### Problem Set 1\n",
    "### Jolie L'Heureux\n",
    "### jel2227\n",
    "### Caiti Levin helped me with this PSET\n",
    "### Alex Savino helped me with this PSET\n",
    "### Leah Mcgee-Gold helped with problem 2\n",
    "### My CS friend Thomas Bueler also helped me with an error in problem 2 <3\n",
    "import numpy as np\n",
    "import math as m"
   ]
  },
  {
   "cell_type": "code",
   "execution_count": 17,
   "id": "3ba74fd4-66ca-46d8-b139-3df9e1b5226d",
   "metadata": {},
   "outputs": [
    {
     "name": "stdout",
     "output_type": "stream",
     "text": [
      "1          0.0\n",
      "1.5          0.4054651081081644\n",
      "2.0          0.6931471805599453\n",
      "2.5          0.9162907318741551\n",
      "3.0          1.0986122886681098\n",
      "3.5          1.252762968495368\n",
      "4.0          1.3862943611198906\n",
      "4.5          1.5040773967762742\n",
      "5.0          1.6094379124341003\n",
      "5.5          1.7047480922384253\n",
      "6.0          1.791759469228055\n",
      "6.5          1.8718021769015913\n",
      "7.0          1.9459101490553132\n",
      "7.5          2.0149030205422647\n",
      "8.0          2.0794415416798357\n",
      "8.5          2.1400661634962708\n",
      "9.0          2.1972245773362196\n",
      "9.5          2.2512917986064953\n",
      "10.0          2.302585092994046\n"
     ]
    }
   ],
   "source": [
    "###Problem 1\n",
    "x=1\n",
    "while x < 10.5:\n",
    "  y=m.log(x)\n",
    "  print(x, \"        \", y)\n",
    "  x=x+0.5"
   ]
  },
  {
   "cell_type": "code",
   "execution_count": 33,
   "id": "55a8a77d-45e8-4bdc-ac19-1645acbb77e2",
   "metadata": {},
   "outputs": [
    {
     "name": "stdout",
     "output_type": "stream",
     "text": [
      "0.96\n",
      "0.96\n",
      "0.96\n",
      "0.96\n",
      "0.96\n",
      "0.96\n",
      "0.96\n",
      "0.96\n",
      "0.96\n",
      "0.96\n",
      "0.96\n",
      "0.96\n",
      "0.96\n",
      "0.96\n",
      "0.96\n",
      "0.96\n",
      "0.96\n",
      "0.96\n",
      "0.96\n",
      "0.96\n",
      "0.96\n",
      "0.96\n",
      "0.96\n",
      "0.96\n",
      "0.96\n",
      "0.96\n",
      "0.96\n",
      "0.96\n",
      "0.96\n",
      "0.96\n",
      "0.96\n",
      "0.96\n",
      "0.96\n",
      "0.96\n",
      "0.96\n",
      "0.96\n",
      "0.96\n",
      "0.96\n",
      "0.96\n",
      "0.96\n",
      "0.9599999995348759\n",
      "0.9631632627651051\n",
      "0.9684170049114549\n",
      "0.9745022090966327\n",
      "0.9808496779305926\n",
      "0.9870426732421561\n",
      "0.9926934503699997\n",
      "0.9973352639830162\n"
     ]
    }
   ],
   "source": [
    "###Problem 2\n",
    "\n",
    "import numpy as np\n",
    "import math as m\n",
    "\n",
    "\n",
    "def flux(p,z):\n",
    "    \n",
    "    if z > (1+p):\n",
    "        lambdaa = 0\n",
    "    elif abs(1-p) < z <= 1+p:\n",
    "        k_1 = m.acos((1-p**2+z**2)/(2*z)) \n",
    "        k_0 = m.acos((p**2+z**2-1)/(2*p*z))\n",
    "\n",
    "        eq_sqrt = m.sqrt(abs((4*z**2-(1+z**2-p**2)**2)/(4)))\n",
    "        x_eq=(1/m.pi)*(p**2*k_0+k_1-eq_sqrt)  \n",
    "        \n",
    "        lambdaa = x_eq\n",
    "    elif z <= 1-p:\n",
    "        lambdaa=p**2\n",
    "    elif z <= p-1:\n",
    "        lambdaa=1\n",
    "    return (1-lambdaa)\n",
    "\n",
    "\n",
    "\n",
    "\n",
    "for z_values in np.arange(-1.2,1.2,0.05):\n",
    "    print(flux(0.2,z_values))"
   ]
  },
  {
   "cell_type": "code",
   "execution_count": 34,
   "id": "3304f06e-4301-47fc-a89d-4315b502f057",
   "metadata": {},
   "outputs": [
    {
     "name": "stdout",
     "output_type": "stream",
     "text": [
      "area under curve = 1.076482802694102\n",
      "fractional error = 0.07648280269410201\n"
     ]
    }
   ],
   "source": [
    "###Problem 3\n",
    "import numpy as np\n",
    "import math as m\n",
    "\n",
    "x_N= (m.pi)/2\n",
    "x_0=0\n",
    "N =10\n",
    "N_i= N+1\n",
    "\n",
    "z = np.arange(0,N_i,1)\n",
    "\n",
    "def int_rectangles (x_N, x_0, N):\n",
    "    delta_x= (x_N-x_0)/(N)\n",
    "    area_rectangles = 0\n",
    "    total_sum=0\n",
    "    i=0\n",
    "    while i <= N:\n",
    "        for e in z:\n",
    "            x_i = x_0 +e*delta_x\n",
    "            area_rectangles = m.sin(x_i)*delta_x\n",
    "            total_sum += area_rectangles\n",
    "            i += 1\n",
    "        return total_sum\n",
    "area_under_curve = int_rectangles((m.pi)/2,0,N) \n",
    "error = abs(1 - area_under_curve)\n",
    "print(\"area under curve =\", area_under_curve)\n",
    "print(\"fractional error =\", error)"
   ]
  },
  {
   "cell_type": "code",
   "execution_count": 35,
   "id": "977beb7a-58e4-4624-8a07-4ed977123681",
   "metadata": {},
   "outputs": [
    {
     "name": "stdout",
     "output_type": "stream",
     "text": [
      "area under curve = 1.0078334198735823\n",
      "fractional error = 0.007833419873582326\n"
     ]
    }
   ],
   "source": [
    "x_N= (m.pi)/2\n",
    "x_0=0\n",
    "N =10**2\n",
    "N_i= N+1\n",
    "\n",
    "z = np.arange(0,N_i,1)\n",
    "\n",
    "def int_rectangles (x_N, x_0, N):\n",
    "    delta_x= (x_N-x_0)/(N)\n",
    "    area_rectangles = 0\n",
    "    total_sum=0\n",
    "    i=0\n",
    "    while i <= N:\n",
    "        for e in z:\n",
    "            x_i = x_0 +e*delta_x\n",
    "            area_rectangles = m.sin(x_i)*delta_x\n",
    "            total_sum += area_rectangles\n",
    "            i += 1\n",
    "        return total_sum\n",
    "area_under_curve = int_rectangles((m.pi)/2,0,N) \n",
    "error = abs(1 - area_under_curve)\n",
    "print(\"area under curve =\", area_under_curve)\n",
    "print(\"fractional error =\", error)"
   ]
  },
  {
   "cell_type": "code",
   "execution_count": 36,
   "id": "10ec6a6a-633d-402d-8fb7-50a433e68aeb",
   "metadata": {},
   "outputs": [
    {
     "name": "stdout",
     "output_type": "stream",
     "text": [
      "area under curve = 1.0007851925466311\n",
      "fractional error = 0.0007851925466311194\n"
     ]
    }
   ],
   "source": [
    "x_N= (m.pi)/2\n",
    "x_0=0\n",
    "N =10**3\n",
    "N_i= N+1\n",
    "\n",
    "z = np.arange(0,N_i,1)\n",
    "\n",
    "def int_rectangles (x_N, x_0, N):\n",
    "    delta_x= (x_N-x_0)/(N)\n",
    "    area_rectangles = 0\n",
    "    total_sum=0\n",
    "    i=0\n",
    "    while i <= N:\n",
    "        for e in z:\n",
    "            x_i = x_0 +e*delta_x\n",
    "            area_rectangles = m.sin(x_i)*delta_x\n",
    "            total_sum += area_rectangles\n",
    "            i += 1\n",
    "        return total_sum\n",
    "area_under_curve = int_rectangles((m.pi)/2,0,N) \n",
    "error = abs(1 - area_under_curve)\n",
    "print(\"area under curve =\", area_under_curve)\n",
    "print(\"fractional error =\", error)"
   ]
  },
  {
   "cell_type": "code",
   "execution_count": 37,
   "id": "7ba6439e-f8ae-40a5-bcf7-0e47207e3545",
   "metadata": {},
   "outputs": [
    {
     "name": "stdout",
     "output_type": "stream",
     "text": [
      "area under curve = 1.0000785377601753\n",
      "fractional error = 7.853776017530123e-05\n"
     ]
    }
   ],
   "source": [
    "x_N= (m.pi)/2\n",
    "x_0=0\n",
    "N =10**4\n",
    "N_i= N+1\n",
    "\n",
    "z = np.arange(0,N_i,1)\n",
    "\n",
    "def int_rectangles (x_N, x_0, N):\n",
    "    delta_x= (x_N-x_0)/(N)\n",
    "    area_rectangles = 0\n",
    "    total_sum=0\n",
    "    i=0\n",
    "    while i <= N:\n",
    "        for e in z:\n",
    "            x_i = x_0 +e*delta_x\n",
    "            area_rectangles = m.sin(x_i)*delta_x\n",
    "            total_sum += area_rectangles\n",
    "            i += 1\n",
    "        return total_sum\n",
    "area_under_curve = int_rectangles((m.pi)/2,0,N) \n",
    "error = abs(1 - area_under_curve)\n",
    "print(\"area under curve =\", area_under_curve)\n",
    "print(\"fractional error =\", error)"
   ]
  },
  {
   "cell_type": "code",
   "execution_count": 38,
   "id": "cb39128c-aaa5-49a4-ad82-4829cf45ca2a",
   "metadata": {},
   "outputs": [
    {
     "name": "stdout",
     "output_type": "stream",
     "text": [
      "area under curve = 1.000007853961068\n",
      "fractional error = 7.853961067949555e-06\n"
     ]
    }
   ],
   "source": [
    "x_N= (m.pi)/2\n",
    "x_0=0\n",
    "N =10**5\n",
    "N_i= N+1\n",
    "\n",
    "z = np.arange(0,N_i,1)\n",
    "\n",
    "def int_rectangles (x_N, x_0, N):\n",
    "    delta_x= (x_N-x_0)/(N)\n",
    "    area_rectangles = 0\n",
    "    total_sum=0\n",
    "    i=0\n",
    "    while i <= N:\n",
    "        for e in z:\n",
    "            x_i = x_0 +e*delta_x\n",
    "            area_rectangles = m.sin(x_i)*delta_x\n",
    "            total_sum += area_rectangles\n",
    "            i += 1\n",
    "        return total_sum\n",
    "area_under_curve = int_rectangles((m.pi)/2,0,N) \n",
    "error = abs(1 - area_under_curve)\n",
    "print(\"area under curve =\", area_under_curve)\n",
    "print(\"fractional error =\", error)"
   ]
  },
  {
   "cell_type": "markdown",
   "id": "7c3a6e26-454c-4775-826c-e5e234dd0fa8",
   "metadata": {},
   "source": [
    "N_10 error = 0.07648280269410201\n",
    "N_100 error = 0.007833419873582326\n",
    "N_1000 error = 0.0007851925466311194\n",
    "N_10000 error = .00007853776017530123\n",
    "N_100000 error = .000007853961067949555"
   ]
  },
  {
   "cell_type": "markdown",
   "id": "45e7ff30-bf0b-45e5-b527-5ae3a4ee6b7f",
   "metadata": {},
   "source": [
    "The fractional error decreases exponentialy as the number of rectangles increasse which makes the shceme exponential order\n",
    "This can be seen by the error decreasing by a smaller amount each time"
   ]
  },
  {
   "cell_type": "markdown",
   "id": "dc916cb4-22a9-49b4-8ab4-6bd31d3cdfdd",
   "metadata": {},
   "source": [
    "true value of the function is 1. "
   ]
  },
  {
   "cell_type": "code",
   "execution_count": null,
   "id": "9545719b-6a33-48d7-81a7-cbaf7c88df4c",
   "metadata": {},
   "outputs": [],
   "source": []
  }
 ],
 "metadata": {
  "kernelspec": {
   "display_name": "Python 3",
   "language": "python",
   "name": "python3"
  },
  "language_info": {
   "codemirror_mode": {
    "name": "ipython",
    "version": 3
   },
   "file_extension": ".py",
   "mimetype": "text/x-python",
   "name": "python",
   "nbconvert_exporter": "python",
   "pygments_lexer": "ipython3",
   "version": "3.8.8"
  }
 },
 "nbformat": 4,
 "nbformat_minor": 5
}
